{
 "cells": [
  {
   "cell_type": "code",
   "execution_count": 1,
   "id": "6650bc4a",
   "metadata": {},
   "outputs": [],
   "source": [
    "import os\n",
    "import keras\n",
    "from keras.layers import Activation, Dense, Dropout, Conv2D, Flatten, MaxPooling2D\n",
    "from keras.models import Sequential\n",
    "from scipy.io import wavfile as wav\n",
    "import librosa\n",
    "import librosa.display\n",
    "import numpy as np\n",
    "import pandas as pd\n",
    "import random\n",
    "import struct\n",
    "import matplotlib.pyplot as plt\n",
    "import IPython.display as ipd\n",
    "import progressbar\n",
    "import time"
   ]
  },
  {
   "cell_type": "code",
   "execution_count": 2,
   "id": "6c8cce11",
   "metadata": {},
   "outputs": [],
   "source": [
    "data = pd.read_csv('metadata/Screamsound.csv')\n",
    "valid_data = data[['slice_file_name', 'fold' ,'classID', 'class']][ data['end']-data['start'] > 0 ]\n",
    "valid_data['path'] = 'fold' + valid_data['fold'].astype('str') + '/' + valid_data['slice_file_name'].astype('str')\n"
   ]
  },
  {
   "cell_type": "code",
   "execution_count": 14,
   "id": "aced43ba",
   "metadata": {
    "scrolled": true
   },
   "outputs": [
    {
     "name": "stderr",
     "output_type": "stream",
     "text": [
      "C:\\Users\\USER\\AppData\\Local\\Temp\\ipykernel_1956\\2348564150.py:5: TqdmDeprecationWarning: This function will be removed in tqdm==5.0.0\n",
      "Please use `tqdm.notebook.tqdm` instead of `tqdm.tqdm_notebook`\n",
      "  for row in tqdm_notebook(valid_data.itertuples()):\n"
     ]
    },
    {
     "data": {
      "application/vnd.jupyter.widget-view+json": {
       "model_id": "0edae467b39a489981ff190d12cb3c14",
       "version_major": 2,
       "version_minor": 0
      },
      "text/plain": [
       "0it [00:00, ?it/s]"
      ]
     },
     "metadata": {},
     "output_type": "display_data"
    },
    {
     "name": "stdout",
     "output_type": "stream",
     "text": [
      "fold2/100652-3-0-0.wav\n",
      "1\n",
      "(128, 128)\n",
      "fold2/100652-3-0-1.wav\n",
      "1\n",
      "(128, 128)\n",
      "fold2/100652-3-0-2.wav\n",
      "1\n",
      "(128, 128)\n",
      "fold2/100652-3-0-3.wav\n",
      "1\n",
      "(128, 128)\n",
      "fold2/101415-3-0-2.wav\n",
      "1\n",
      "(128, 128)\n",
      "fold2/101415-3-0-3.wav\n",
      "1\n",
      "(128, 128)\n",
      "fold2/101415-3-0-8.wav\n",
      "1\n",
      "(128, 128)\n",
      "fold1/yisell_sound_2007_11_9_1_31_156634.wav\n",
      "0\n",
      "(128, 80)\n",
      "fold1/yisell_sound_2007_12_18_15_25_315033.wav\n",
      "0\n",
      "(128, 13)\n",
      "fold1/yisell_sound_2007_12_18_15_25_593398.wav\n",
      "0\n",
      "(128, 34)\n",
      "fold1/yisell_sound_2007_12_18_15_26_248752.wav\n",
      "0\n",
      "(128, 69)\n",
      "fold1/yisell_sound_2007_12_18_15_26_444257.wav\n",
      "0\n",
      "(128, 84)\n",
      "fold1/yisell_sound_2007_12_18_15_27_063699.wav\n",
      "0\n",
      "(128, 62)\n",
      "fold1/yisell_sound_2007_12_18_15_27_324809.wav\n",
      "0\n",
      "(128, 94)\n",
      "fold1/yisell_sound_2007_12_18_15_27_543156.wav\n",
      "0\n",
      "(128, 128)\n",
      "fold1/yisell_sound_2007_12_18_15_29_067921.wav\n",
      "0\n",
      "(128, 128)\n",
      "fold1/yisell_sound_2007_12_18_15_29_33722.wav\n",
      "0\n",
      "(128, 128)\n",
      "fold1/yisell_sound_2007_12_18_15_30_231364.wav\n",
      "0\n",
      "(128, 128)\n",
      "fold1/yisell_sound_2014080511023849341_66366.wav\n",
      "0\n",
      "(128, 88)\n",
      "fold1/yisell_sound_2014080512323863957_66366.wav\n",
      "0\n",
      "(128, 128)\n",
      "fold1/yisell_sound_2014081313495332740_66366.wav\n",
      "0\n",
      "(128, 105)\n",
      "fold1/yisell_sound_2014081314482020626_66366.wav\n",
      "0\n",
      "(128, 66)\n",
      "fold3/pk1e5-yogtt.wav\n",
      "0\n",
      "(128, 128)\n",
      "fold3/pk1e5-yogtt.wav\n",
      "0\n",
      "(128, 128)\n",
      "fold3/pk1e5-yogtt.wav\n",
      "0\n",
      "(128, 128)\n",
      "fold3/pk1e5-yogtt.wav\n",
      "0\n",
      "(128, 128)\n",
      "fold3/pk1e5-yogtt.wav\n",
      "0\n",
      "(128, 128)\n",
      "fold3/pk1e5-yogtt.wav\n",
      "0\n",
      "(128, 128)\n",
      "fold3/pk1e5-yogtt.wav\n",
      "0\n",
      "(128, 128)\n"
     ]
    }
   ],
   "source": [
    "from tqdm import tnrange, tqdm_notebook\n",
    "\n",
    "D=[]\n",
    "        \n",
    "for row in tqdm_notebook(valid_data.itertuples()): \n",
    "    print(row.path)\n",
    "    print(row.classID)\n",
    "    y1, sr1 = librosa.load(\"audio/\" + row.path, duration=2.97)  \n",
    "    ps = librosa.feature.melspectrogram(y=y1, sr=sr1)\n",
    "    print(ps.shape)\n",
    "    if ps.shape != (128, 128): \n",
    "            continue\n",
    "    D.append( (ps, row.classID) )"
   ]
  },
  {
   "cell_type": "code",
   "execution_count": 4,
   "id": "588e84a3",
   "metadata": {},
   "outputs": [],
   "source": [
    "import hickle as hkl \n",
    "data = D\n",
    "\n",
    "# Dump data to file\n",
    "hkl.dump(data, 'new_data_file.hkl')"
   ]
  },
  {
   "cell_type": "code",
   "execution_count": 5,
   "id": "4456d2d6",
   "metadata": {},
   "outputs": [],
   "source": [
    "# Load data from file\n",
    "D = hkl.load('new_data_file.hkl')"
   ]
  },
  {
   "cell_type": "code",
   "execution_count": 6,
   "id": "d092c4f7",
   "metadata": {},
   "outputs": [
    {
     "name": "stdout",
     "output_type": "stream",
     "text": [
      "dataset: 19\n",
      "train: 13\n",
      "test: 6\n"
     ]
    }
   ],
   "source": [
    "from keras.utils import np_utils\n",
    "dataset = D\n",
    "random.shuffle(dataset)\n",
    "\n",
    "train = dataset[:13]\n",
    "test = dataset[13:]\n",
    "print('dataset:', len(dataset))\n",
    "print('train:', len(train))\n",
    "print('test:', len(test))\n",
    "\n",
    "X_train, y_train = zip(*train)\n",
    "X_test, y_test = zip(*test)\n",
    "\n",
    "X_train = np.array([x.reshape( (128, 128, 1) ) for x in X_train])\n",
    "X_test = np.array([x.reshape( (128, 128, 1) ) for x in X_test])\n",
    "\n",
    "\n",
    "y_train = np.array(keras.utils.np_utils.to_categorical(y_train, 10))\n",
    "y_test = np.array(keras.utils.np_utils.to_categorical(y_test, 10))"
   ]
  },
  {
   "cell_type": "code",
   "execution_count": 7,
   "id": "a2ed9947",
   "metadata": {},
   "outputs": [],
   "source": [
    "model = Sequential()\n",
    "input_shape=(128, 128, 1)\n",
    "\n",
    "model.add(Conv2D(24, (5, 5), strides=(1, 1), input_shape=input_shape))\n",
    "model.add(MaxPooling2D((4, 2), strides=(4, 2)))\n",
    "model.add(Activation('relu'))\n",
    "\n",
    "model.add(Conv2D(48, (5, 5), padding=\"valid\"))\n",
    "model.add(MaxPooling2D((4, 2), strides=(4, 2)))\n",
    "model.add(Activation('relu'))\n",
    "\n",
    "model.add(Conv2D(48, (5, 5), padding=\"valid\"))\n",
    "model.add(Activation('relu'))\n",
    "\n",
    "model.add(Flatten())\n",
    "model.add(Dropout(rate=0.5))\n",
    "\n",
    "model.add(Dense(64))\n",
    "model.add(Activation('relu'))\n",
    "model.add(Dropout(rate=0.5))\n",
    "\n",
    "model.add(Dense(10))\n",
    "model.add(Activation('softmax'))\n",
    " "
   ]
  },
  {
   "cell_type": "code",
   "execution_count": 8,
   "id": "6b223268",
   "metadata": {
    "scrolled": true
   },
   "outputs": [
    {
     "name": "stdout",
     "output_type": "stream",
     "text": [
      "Epoch 1/24\n",
      "1/1 [==============================] - 1s 1s/step - loss: 39.6599 - accuracy: 0.0000e+00 - val_loss: 4.2205 - val_accuracy: 0.3333\n",
      "Epoch 2/24\n",
      "1/1 [==============================] - 0s 199ms/step - loss: 3.7582 - accuracy: 0.6923 - val_loss: 1.7002 - val_accuracy: 0.6667\n",
      "Epoch 3/24\n",
      "1/1 [==============================] - 0s 205ms/step - loss: 0.3189 - accuracy: 0.9231 - val_loss: 1.8145 - val_accuracy: 0.6667\n",
      "Epoch 4/24\n",
      "1/1 [==============================] - 0s 159ms/step - loss: 0.8300 - accuracy: 0.8462 - val_loss: 2.7192 - val_accuracy: 0.6667\n",
      "Epoch 5/24\n",
      "1/1 [==============================] - 0s 198ms/step - loss: 0.0974 - accuracy: 0.9231 - val_loss: 3.2675 - val_accuracy: 0.6667\n",
      "Epoch 6/24\n",
      "1/1 [==============================] - 0s 161ms/step - loss: 3.4740 - accuracy: 0.8462 - val_loss: 4.2272 - val_accuracy: 0.6667\n",
      "Epoch 7/24\n",
      "1/1 [==============================] - 0s 138ms/step - loss: 0.3431 - accuracy: 0.9231 - val_loss: 5.1500 - val_accuracy: 0.6667\n",
      "Epoch 8/24\n",
      "1/1 [==============================] - 0s 149ms/step - loss: 1.5410 - accuracy: 0.9231 - val_loss: 4.9838 - val_accuracy: 0.6667\n",
      "Epoch 9/24\n",
      "1/1 [==============================] - 0s 175ms/step - loss: 1.0087 - accuracy: 0.8462 - val_loss: 5.1078 - val_accuracy: 0.6667\n",
      "Epoch 10/24\n",
      "1/1 [==============================] - 0s 183ms/step - loss: 0.6286 - accuracy: 0.9231 - val_loss: 5.4879 - val_accuracy: 0.6667\n",
      "Epoch 11/24\n",
      "1/1 [==============================] - 0s 139ms/step - loss: 1.0072 - accuracy: 0.9231 - val_loss: 6.1857 - val_accuracy: 0.6667\n",
      "Epoch 12/24\n",
      "1/1 [==============================] - 0s 139ms/step - loss: 2.7840e-04 - accuracy: 1.0000 - val_loss: 6.8317 - val_accuracy: 0.6667\n",
      "Epoch 13/24\n",
      "1/1 [==============================] - 0s 146ms/step - loss: 1.5526 - accuracy: 0.7692 - val_loss: 7.3314 - val_accuracy: 0.6667\n",
      "Epoch 14/24\n",
      "1/1 [==============================] - 0s 149ms/step - loss: 1.2819 - accuracy: 0.9231 - val_loss: 7.7633 - val_accuracy: 0.6667\n",
      "Epoch 15/24\n",
      "1/1 [==============================] - 0s 145ms/step - loss: 10.6150 - accuracy: 0.9231 - val_loss: 8.5194 - val_accuracy: 0.8333\n",
      "Epoch 16/24\n",
      "1/1 [==============================] - 0s 134ms/step - loss: 1.7622e-04 - accuracy: 1.0000 - val_loss: 9.3910 - val_accuracy: 0.8333\n",
      "Epoch 17/24\n",
      "1/1 [==============================] - 0s 136ms/step - loss: 0.0596 - accuracy: 0.9231 - val_loss: 10.2656 - val_accuracy: 0.8333\n",
      "Epoch 18/24\n",
      "1/1 [==============================] - 0s 136ms/step - loss: 1.5292 - accuracy: 0.8462 - val_loss: 10.7970 - val_accuracy: 0.8333\n",
      "Epoch 19/24\n",
      "1/1 [==============================] - 0s 137ms/step - loss: 0.0061 - accuracy: 1.0000 - val_loss: 11.3673 - val_accuracy: 0.8333\n",
      "Epoch 20/24\n",
      "1/1 [==============================] - 0s 132ms/step - loss: 0.0010 - accuracy: 1.0000 - val_loss: 11.8605 - val_accuracy: 0.8333\n",
      "Epoch 21/24\n",
      "1/1 [==============================] - 0s 132ms/step - loss: 0.7353 - accuracy: 0.9231 - val_loss: 11.5488 - val_accuracy: 0.8333\n",
      "Epoch 22/24\n",
      "1/1 [==============================] - 0s 135ms/step - loss: 7.0790e-06 - accuracy: 1.0000 - val_loss: 11.2973 - val_accuracy: 0.8333\n",
      "Epoch 23/24\n",
      "1/1 [==============================] - 0s 133ms/step - loss: 7.2806e-06 - accuracy: 1.0000 - val_loss: 11.0782 - val_accuracy: 0.8333\n",
      "Epoch 24/24\n",
      "1/1 [==============================] - 0s 139ms/step - loss: 2.2280e-05 - accuracy: 1.0000 - val_loss: 10.8953 - val_accuracy: 0.8333\n",
      "1/1 [==============================] - 0s 30ms/step - loss: 10.8953 - accuracy: 0.8333\n",
      "Test loss: 10.895332336425781\n",
      "Test accuracy: 0.8333333134651184\n"
     ]
    }
   ],
   "source": [
    "model.compile(\n",
    "    optimizer=\"Adam\",\n",
    "    loss=\"categorical_crossentropy\",\n",
    "    metrics=['accuracy'])\n",
    "\n",
    "model.fit(\n",
    "    x=X_train, \n",
    "    y=y_train,\n",
    "    epochs=24,\n",
    "    batch_size=128,\n",
    "    validation_data= (X_test, y_test))\n",
    "\n",
    "score = model.evaluate(\n",
    "    x=X_test,\n",
    "    y=y_test)\n",
    "\n",
    "print('Test loss:', score[0])\n",
    "print('Test accuracy:', score[1])"
   ]
  },
  {
   "cell_type": "code",
   "execution_count": 9,
   "id": "79da1d7c",
   "metadata": {},
   "outputs": [
    {
     "name": "stdout",
     "output_type": "stream",
     "text": [
      "Model exported and finished\n"
     ]
    }
   ],
   "source": [
    "model.save('ScreamDemo1.h5') \n",
    "print('Model exported and finished')"
   ]
  },
  {
   "cell_type": "code",
   "execution_count": null,
   "id": "57d7a4ef",
   "metadata": {},
   "outputs": [],
   "source": []
  }
 ],
 "metadata": {
  "kernelspec": {
   "display_name": "Python 3 (ipykernel)",
   "language": "python",
   "name": "python3"
  },
  "language_info": {
   "codemirror_mode": {
    "name": "ipython",
    "version": 3
   },
   "file_extension": ".py",
   "mimetype": "text/x-python",
   "name": "python",
   "nbconvert_exporter": "python",
   "pygments_lexer": "ipython3",
   "version": "3.9.7"
  }
 },
 "nbformat": 4,
 "nbformat_minor": 5
}
