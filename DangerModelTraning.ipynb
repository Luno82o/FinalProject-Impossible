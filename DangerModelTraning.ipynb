{
 "cells": [
  {
   "cell_type": "code",
   "execution_count": 1,
   "id": "6650bc4a",
   "metadata": {},
   "outputs": [],
   "source": [
    "import os\n",
    "import keras\n",
    "from keras.layers import Activation, Dense, Dropout, Conv2D, Flatten, MaxPooling2D\n",
    "from keras.models import Sequential\n",
    "from scipy.io import wavfile as wav\n",
    "import librosa\n",
    "import librosa.display\n",
    "import numpy as np\n",
    "import pandas as pd\n",
    "import random\n",
    "import struct\n",
    "import matplotlib.pyplot as plt\n",
    "import IPython.display as ipd\n",
    "import progressbar\n",
    "import time"
   ]
  },
  {
   "cell_type": "code",
   "execution_count": 2,
   "id": "6c8cce11",
   "metadata": {},
   "outputs": [],
   "source": [
    "data = pd.read_csv('metadata/Screamsound.csv')\n",
    "valid_data = data[['slice_file_name', 'fold' ,'classID', 'class']][ data['end']-data['start'] > 0 ]\n",
    "valid_data['path'] = 'fold' + valid_data['fold'].astype('str') + '/' + valid_data['slice_file_name'].astype('str')\n"
   ]
  },
  {
   "cell_type": "code",
   "execution_count": 13,
   "id": "aced43ba",
   "metadata": {
    "scrolled": false
   },
   "outputs": [
    {
     "name": "stderr",
     "output_type": "stream",
     "text": [
      "C:\\Users\\USER\\AppData\\Local\\Temp\\ipykernel_7708\\3586499159.py:5: TqdmDeprecationWarning: This function will be removed in tqdm==5.0.0\n",
      "Please use `tqdm.notebook.tqdm` instead of `tqdm.tqdm_notebook`\n",
      "  for row in tqdm_notebook(valid_data.itertuples()):\n"
     ]
    },
    {
     "data": {
      "application/vnd.jupyter.widget-view+json": {
       "model_id": "c598f6430b974fee969cd5c7a06bf2fa",
       "version_major": 2,
       "version_minor": 0
      },
      "text/plain": [
       "0it [00:00, ?it/s]"
      ]
     },
     "metadata": {},
     "output_type": "display_data"
    },
    {
     "name": "stdout",
     "output_type": "stream",
     "text": [
      "fold3/pk1e5-yogtt.wav\n",
      "fold3/pk1e5-yogtt.wav\n",
      "fold3/pk1e5-yogtt.wav\n",
      "fold1/yisell_sound_2007_12_18_15_27_543156.wav\n",
      "fold1/yisell_sound_2007_12_18_15_29_33722.wav\n",
      "fold1/yisell_sound_2007_12_18_15_30_231364.wav\n",
      "fold2/100652-3-0-0.wav\n",
      "fold2/100652-3-0-1.wav\n",
      "fold2/100652-3-0-2.wav\n",
      "fold2/100652-3-0-3.wav\n",
      "fold2/101415-3-0-2.wav\n",
      "fold2/101415-3-0-3.wav\n",
      "fold2/101415-3-0-8.wav\n",
      "fold3/117048-3-0-17.wav\n",
      "fold3/117048-3-0-23.wav\n",
      "fold3/117048-3-0-25.wav\n",
      "fold3/117048-3-0-35.wav\n",
      "fold3/117072-3-0-14.wav\n",
      "fold3/117072-3-0-19.wav\n",
      "fold4/12917.wav\n",
      "fold4/13238.wav\n",
      "fold4/13238.wav\n",
      "fold4/13548.wav\n",
      "fold4/13548.wav\n",
      "fold4/14510.wav\n",
      "fold4/14510.wav\n",
      "fold3/17615-3-0-0.wav\n",
      "fold3/17615-3-0-3.wav\n",
      "fold3/17615-3-0-4.wav\n",
      "fold3/17615-3-0-6.wav\n",
      "fold3/176783-3-0-11.wav\n",
      "fold3/176783-3-0-3.wav\n",
      "fold3/176783-3-0-5.wav\n",
      "fold3/176783-3-1-0.wav\n",
      "fold4/3um4p-6li77.wav\n",
      "fold4/3um4p-6li77.wav\n",
      "fold4/3um4p-6li77.wav\n",
      "fold4/3um4p-6li77.wav\n",
      "fold4/3um4p-6li77.wav\n",
      "fold4/3um4p-6li77.wav\n",
      "fold4/3um4p-6li77.wav\n",
      "fold4/3um4p-6li77.wav\n",
      "fold4/3um4p-6li77.wav\n",
      "fold5/LunScream22-05-15_18-29-46.wav\n",
      "fold5/LunScream22-05-15_18-30-42.wav\n",
      "fold5/LunScream22-05-15_18-31-01.wav\n",
      "fold5/LunScream22-05-15_18-31-14.wav\n",
      "fold3/pk1e5-yogtt.wav\n",
      "fold3/pk1e5-yogtt.wav\n",
      "fold1/yisell_sound_2007_12_18_15_29_067921.wav\n",
      "fold1/yisell_sound_2014080512323863957_66366.wav\n",
      "fold4/zljv4-8xxjg.wav\n",
      "fold3/117072-3-0-11.wav\n",
      "fold3/117072-3-0-8.wav\n",
      "fold3/pk1e5-yogtt.wav\n",
      "fold3/pk1e5-yogtt.wav\n"
     ]
    }
   ],
   "source": [
    "from tqdm import tnrange, tqdm_notebook\n",
    "\n",
    "D=[]\n",
    "        \n",
    "for row in tqdm_notebook(valid_data.itertuples()): \n",
    "    y1, sr1 = librosa.load(\"audio/\" + row.path, duration=2.97)  \n",
    "    ps = librosa.feature.melspectrogram(y=y1, sr=sr1)\n",
    "    #print(ps)\n",
    "    #print(ps.shape)\n",
    "    \n",
    "    if ps.shape != (128, 128): \n",
    "        print(row.path + \"!=128,128\")\n",
    "        continue\n",
    "        \n",
    "    print(row.path)\n",
    "    #print(row.classID)    \n",
    "    D.append( (ps, row.classID) )"
   ]
  },
  {
   "cell_type": "code",
   "execution_count": 4,
   "id": "588e84a3",
   "metadata": {},
   "outputs": [],
   "source": [
    "#import hickle as hkl \n",
    "#data = D\n",
    "\n",
    "## Dump data to file\n",
    "#hkl.dump(data, 'new_data_file.hkl')"
   ]
  },
  {
   "cell_type": "code",
   "execution_count": 5,
   "id": "4456d2d6",
   "metadata": {},
   "outputs": [],
   "source": [
    "## Load data from file\n",
    "#D = hkl.load('new_data_file.hkl')\n",
    "#print(type(D))"
   ]
  },
  {
   "cell_type": "code",
   "execution_count": 6,
   "id": "2d8ccf6a",
   "metadata": {
    "scrolled": true
   },
   "outputs": [
    {
     "name": "stdout",
     "output_type": "stream",
     "text": [
      "dataset: 56\n"
     ]
    }
   ],
   "source": [
    "#from keras.utils import np_utils\n",
    "dataset = D\n",
    "#random.shuffle(dataset)\n",
    "\n",
    "#train = dataset[:15]\n",
    "#test = dataset[15:]\n",
    "print('dataset:', len(dataset))\n",
    "#print('train:', len(train))\n",
    "#print('test:', len(test))"
   ]
  },
  {
   "cell_type": "code",
   "execution_count": 7,
   "id": "d092c4f7",
   "metadata": {},
   "outputs": [],
   "source": [
    "from keras.utils import np_utils\n",
    "#from sklearn.model_selection import cross_val_score\n",
    "from sklearn.model_selection import train_test_split\n",
    "\n",
    "X_train,X_test, y_train, y_test = train_test_split([i[0] for i in D],\n",
    "                                                   [i[1] for i in D],\n",
    "                                                   test_size=0.2,\n",
    "                                                   random_state=0)\n",
    "\n",
    "#X_train, y_train = zip(*train)\n",
    "#X_test, y_test = zip(*test)\n",
    "\n",
    "X_train = np.array([x.reshape( (128, 128, 1) ) for x in X_train])\n",
    "X_test = np.array([x.reshape( (128, 128, 1) ) for x in X_test])\n",
    "#print(y_train)\n",
    "#print(y_test)\n",
    "y_train = np.array(keras.utils.np_utils.to_categorical(y_train, 10))\n",
    "y_test = np.array(keras.utils.np_utils.to_categorical(y_test, 10))\n",
    "#print(y_train)\n",
    "#print(y_test)"
   ]
  },
  {
   "cell_type": "code",
   "execution_count": 8,
   "id": "a2ed9947",
   "metadata": {},
   "outputs": [],
   "source": [
    "model = Sequential()\n",
    "input_shape=(128, 128, 1)\n",
    "\n",
    "model.add(Conv2D(24, (5, 5), strides=(1, 1), input_shape=input_shape))\n",
    "model.add(MaxPooling2D((4, 2), strides=(4, 2)))\n",
    "model.add(Activation('relu'))\n",
    "\n",
    "model.add(Conv2D(48, (5, 5), padding=\"valid\"))\n",
    "model.add(MaxPooling2D((4, 2), strides=(4, 2)))\n",
    "model.add(Activation('relu'))\n",
    "\n",
    "model.add(Conv2D(48, (5, 5), padding=\"valid\"))\n",
    "model.add(Activation('relu'))\n",
    "\n",
    "model.add(Flatten())\n",
    "model.add(Dropout(rate=0.5))\n",
    "\n",
    "model.add(Dense(64))\n",
    "model.add(Activation('relu'))\n",
    "model.add(Dropout(rate=0.5))\n",
    "\n",
    "model.add(Dense(10))\n",
    "model.add(Activation('softmax'))"
   ]
  },
  {
   "cell_type": "code",
   "execution_count": 9,
   "id": "6b223268",
   "metadata": {
    "scrolled": false
   },
   "outputs": [
    {
     "name": "stdout",
     "output_type": "stream",
     "text": [
      "Epoch 1/12\n",
      "1/1 [==============================] - 1s 887ms/step - loss: 14.7876 - accuracy: 0.3409 - val_loss: 2.4651 - val_accuracy: 0.5000\n",
      "Epoch 2/12\n",
      "1/1 [==============================] - 0s 303ms/step - loss: 4.2161 - accuracy: 0.6136 - val_loss: 1.9880 - val_accuracy: 0.5000\n",
      "Epoch 3/12\n",
      "1/1 [==============================] - 0s 287ms/step - loss: 2.8340 - accuracy: 0.7045 - val_loss: 1.0620 - val_accuracy: 0.5833\n",
      "Epoch 4/12\n",
      "1/1 [==============================] - 0s 294ms/step - loss: 4.8847 - accuracy: 0.6591 - val_loss: 1.7458 - val_accuracy: 0.6667\n",
      "Epoch 5/12\n",
      "1/1 [==============================] - 0s 295ms/step - loss: 2.5634 - accuracy: 0.8409 - val_loss: 2.4235 - val_accuracy: 0.6667\n",
      "Epoch 6/12\n",
      "1/1 [==============================] - 0s 298ms/step - loss: 1.7042 - accuracy: 0.8182 - val_loss: 2.3489 - val_accuracy: 0.6667\n",
      "Epoch 7/12\n",
      "1/1 [==============================] - 0s 291ms/step - loss: 0.7484 - accuracy: 0.8636 - val_loss: 2.6717 - val_accuracy: 0.6667\n",
      "Epoch 8/12\n",
      "1/1 [==============================] - 0s 303ms/step - loss: 1.4824 - accuracy: 0.7727 - val_loss: 3.0100 - val_accuracy: 0.6667\n",
      "Epoch 9/12\n",
      "1/1 [==============================] - 0s 287ms/step - loss: 1.6113 - accuracy: 0.8182 - val_loss: 3.4533 - val_accuracy: 0.6667\n",
      "Epoch 10/12\n",
      "1/1 [==============================] - 0s 303ms/step - loss: 0.7526 - accuracy: 0.8636 - val_loss: 3.8385 - val_accuracy: 0.6667\n",
      "Epoch 11/12\n",
      "1/1 [==============================] - 0s 299ms/step - loss: 0.9190 - accuracy: 0.8636 - val_loss: 4.3993 - val_accuracy: 0.6667\n",
      "Epoch 12/12\n",
      "1/1 [==============================] - 0s 295ms/step - loss: 2.4342 - accuracy: 0.8864 - val_loss: 4.6830 - val_accuracy: 0.6667\n",
      "1/1 [==============================] - 0s 35ms/step - loss: 4.6830 - accuracy: 0.6667\n",
      "Test loss: 4.682968616485596\n",
      "Test accuracy: 0.6666666865348816\n",
      "success\n"
     ]
    }
   ],
   "source": [
    "model.compile(\n",
    "    optimizer=\"Adam\",\n",
    "    loss=\"categorical_crossentropy\",\n",
    "    metrics=['accuracy'])\n",
    "\n",
    "model.fit(\n",
    "    x=X_train, \n",
    "    y=y_train,\n",
    "    epochs=12,\n",
    "    batch_size=128,\n",
    "    validation_data= (X_test, y_test))\n",
    "\n",
    "score = model.evaluate(\n",
    "    x=X_test,\n",
    "    y=y_test)\n",
    "\n",
    "print('Test loss:', score[0])\n",
    "print('Test accuracy:', score[1])\n",
    "print('success')"
   ]
  },
  {
   "cell_type": "code",
   "execution_count": 10,
   "id": "c6e8c6fd",
   "metadata": {
    "scrolled": true
   },
   "outputs": [
    {
     "name": "stdout",
     "output_type": "stream",
     "text": [
      "[[1.0000000e+00 1.2963960e-34 0.0000000e+00 0.0000000e+00 0.0000000e+00\n",
      "  0.0000000e+00 0.0000000e+00 0.0000000e+00 0.0000000e+00 0.0000000e+00]\n",
      " [6.8113875e-01 1.9836886e-01 1.2413855e-02 1.0612893e-02 3.9984964e-02\n",
      "  5.9492299e-03 2.6488166e-02 8.0905510e-03 1.3887821e-02 3.0649286e-03]\n",
      " [9.9994433e-01 5.5695313e-05 4.6525040e-13 1.5582415e-14 2.7271849e-09\n",
      "  3.2565021e-16 1.4393077e-11 9.9788103e-12 3.5555697e-13 2.0674423e-15]\n",
      " [2.4739118e-01 4.9911055e-01 4.5709040e-02 2.9154446e-02 7.5415500e-02\n",
      "  2.2013342e-02 3.1013235e-02 2.0029083e-02 1.7501716e-02 1.2661892e-02]\n",
      " [0.0000000e+00 1.0000000e+00 0.0000000e+00 0.0000000e+00 0.0000000e+00\n",
      "  0.0000000e+00 0.0000000e+00 0.0000000e+00 0.0000000e+00 0.0000000e+00]\n",
      " [1.0000000e+00 7.7304387e-12 1.4358428e-29 3.0296349e-34 8.4856468e-19\n",
      "  1.4715939e-35 5.2274859e-23 9.4308142e-26 1.3593545e-24 4.3780475e-33]\n",
      " [1.4148696e-01 1.3215142e-01 9.6706346e-02 8.4672861e-02 1.0131351e-01\n",
      "  8.1219941e-02 9.3202569e-02 9.5896095e-02 8.9598805e-02 8.3751485e-02]\n",
      " [1.0000000e+00 3.6367961e-38 0.0000000e+00 0.0000000e+00 0.0000000e+00\n",
      "  0.0000000e+00 0.0000000e+00 0.0000000e+00 0.0000000e+00 0.0000000e+00]\n",
      " [1.0000000e+00 1.8484202e-13 0.0000000e+00 0.0000000e+00 2.3954997e-31\n",
      "  0.0000000e+00 4.8461308e-33 2.7555691e-34 1.5452308e-37 0.0000000e+00]\n",
      " [1.3714366e-01 1.2401149e-01 9.6103936e-02 8.6427249e-02 1.0009185e-01\n",
      "  8.4653340e-02 9.6469842e-02 9.3246765e-02 9.1627538e-02 9.0224355e-02]\n",
      " [2.4230919e-22 1.0000000e+00 0.0000000e+00 0.0000000e+00 0.0000000e+00\n",
      "  0.0000000e+00 0.0000000e+00 0.0000000e+00 0.0000000e+00 0.0000000e+00]\n",
      " [3.1594157e-22 1.0000000e+00 0.0000000e+00 0.0000000e+00 0.0000000e+00\n",
      "  0.0000000e+00 0.0000000e+00 0.0000000e+00 0.0000000e+00 0.0000000e+00]]\n"
     ]
    }
   ],
   "source": [
    "predict = model.predict(X_test)\n",
    "print(predict)"
   ]
  },
  {
   "cell_type": "code",
   "execution_count": 11,
   "id": "7f3c76c2",
   "metadata": {},
   "outputs": [
    {
     "name": "stdout",
     "output_type": "stream",
     "text": [
      "[[1. 0. 0. 0. 0. 0. 0. 0. 0. 0.]\n",
      " [0. 1. 0. 0. 0. 0. 0. 0. 0. 0.]\n",
      " [1. 0. 0. 0. 0. 0. 0. 0. 0. 0.]\n",
      " [0. 1. 0. 0. 0. 0. 0. 0. 0. 0.]\n",
      " [0. 1. 0. 0. 0. 0. 0. 0. 0. 0.]\n",
      " [1. 0. 0. 0. 0. 0. 0. 0. 0. 0.]\n",
      " [0. 1. 0. 0. 0. 0. 0. 0. 0. 0.]\n",
      " [1. 0. 0. 0. 0. 0. 0. 0. 0. 0.]\n",
      " [1. 0. 0. 0. 0. 0. 0. 0. 0. 0.]\n",
      " [0. 1. 0. 0. 0. 0. 0. 0. 0. 0.]\n",
      " [1. 0. 0. 0. 0. 0. 0. 0. 0. 0.]\n",
      " [0. 1. 0. 0. 0. 0. 0. 0. 0. 0.]]\n",
      "[0 0 0 1 1 0 0 0 0 0 1 1]\n"
     ]
    }
   ],
   "source": [
    "predict = np.argmax(model.predict(X_test), axis=-1)\n",
    "\n",
    "print(y_test)\n",
    "print(predict)"
   ]
  },
  {
   "cell_type": "code",
   "execution_count": 12,
   "id": "79da1d7c",
   "metadata": {},
   "outputs": [
    {
     "name": "stdout",
     "output_type": "stream",
     "text": [
      "Model exported and finished\n"
     ]
    }
   ],
   "source": [
    "model.save('ScreamDemo1.h5') \n",
    "print('Model exported and finished')"
   ]
  },
  {
   "cell_type": "code",
   "execution_count": null,
   "id": "57d7a4ef",
   "metadata": {},
   "outputs": [],
   "source": []
  },
  {
   "cell_type": "code",
   "execution_count": null,
   "id": "89232c72",
   "metadata": {},
   "outputs": [],
   "source": []
  }
 ],
 "metadata": {
  "kernelspec": {
   "display_name": "Python 3 (ipykernel)",
   "language": "python",
   "name": "python3"
  },
  "language_info": {
   "codemirror_mode": {
    "name": "ipython",
    "version": 3
   },
   "file_extension": ".py",
   "mimetype": "text/x-python",
   "name": "python",
   "nbconvert_exporter": "python",
   "pygments_lexer": "ipython3",
   "version": "3.9.7"
  }
 },
 "nbformat": 4,
 "nbformat_minor": 5
}
