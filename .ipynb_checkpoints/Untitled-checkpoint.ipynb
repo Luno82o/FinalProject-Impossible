{
 "cells": [
  {
   "cell_type": "code",
   "execution_count": 2,
   "id": "a0435214",
   "metadata": {},
   "outputs": [],
   "source": [
    "from keras.models import load_model\n",
    "\n",
    "# 載入模型\n",
    "model = load_model('ScreamDemo1.h5')"
   ]
  },
  {
   "cell_type": "code",
   "execution_count": null,
   "id": "266fe1c4",
   "metadata": {},
   "outputs": [],
   "source": [
    "\n",
    "# A few random samples\n",
    "samples_to_predict = []\n",
    "\n",
    "y1, sr1 = librosa.load(\"audio/fold1/yisell_sound_2007_12_18_15_29_067921.wav\", duration=2.97)  \n",
    "ps = librosa.feature.melspectrogram(y=y1, sr=sr1)\n",
    "\n",
    "if ps.shape == (128, 128): \n",
    "    samples_to_predict.append( (ps, row.classID) )\n",
    "\n",
    "# Convert into Numpy array\n",
    "samples_to_predict = np.array(samples_to_predict)\n",
    "print(samples_to_predict.shape)\n",
    "\n",
    "# Generate predictions for samples\n",
    "predictions = model.predict(samples_to_predict)\n",
    "print(predictions)\n",
    "\n",
    "# Generate arg maxes for predictions\n",
    "classes = np.argmax(predictions, axis = 1)\n",
    "print(classes)"
   ]
  }
 ],
 "metadata": {
  "kernelspec": {
   "display_name": "Python 3 (ipykernel)",
   "language": "python",
   "name": "python3"
  },
  "language_info": {
   "codemirror_mode": {
    "name": "ipython",
    "version": 3
   },
   "file_extension": ".py",
   "mimetype": "text/x-python",
   "name": "python",
   "nbconvert_exporter": "python",
   "pygments_lexer": "ipython3",
   "version": "3.9.7"
  }
 },
 "nbformat": 4,
 "nbformat_minor": 5
}
