{
 "cells": [
  {
   "cell_type": "code",
   "execution_count": 4,
   "id": "3826e446",
   "metadata": {},
   "outputs": [],
   "source": [
    "\n",
    "from keras.models import load_model\n",
    "import librosa\n",
    "import librosa.display\n"
   ]
  },
  {
   "cell_type": "code",
   "execution_count": 5,
   "id": "54008e64",
   "metadata": {},
   "outputs": [],
   "source": [
    "\n",
    "# 載入模型\n",
    "model = load_model('ScreamDemo1.h5')"
   ]
  },
  {
   "cell_type": "code",
   "execution_count": 6,
   "id": "9db6c1e7",
   "metadata": {},
   "outputs": [
    {
     "ename": "NameError",
     "evalue": "name 'row' is not defined",
     "output_type": "error",
     "traceback": [
      "\u001b[1;31m---------------------------------------------------------------------------\u001b[0m",
      "\u001b[1;31mNameError\u001b[0m                                 Traceback (most recent call last)",
      "Input \u001b[1;32mIn [6]\u001b[0m, in \u001b[0;36m<cell line: 7>\u001b[1;34m()\u001b[0m\n\u001b[0;32m      5\u001b[0m ps \u001b[38;5;241m=\u001b[39m librosa\u001b[38;5;241m.\u001b[39mfeature\u001b[38;5;241m.\u001b[39mmelspectrogram(y\u001b[38;5;241m=\u001b[39my1, sr\u001b[38;5;241m=\u001b[39msr1)\n\u001b[0;32m      7\u001b[0m \u001b[38;5;28;01mif\u001b[39;00m ps\u001b[38;5;241m.\u001b[39mshape \u001b[38;5;241m==\u001b[39m (\u001b[38;5;241m128\u001b[39m, \u001b[38;5;241m128\u001b[39m): \n\u001b[1;32m----> 8\u001b[0m     samples_to_predict\u001b[38;5;241m.\u001b[39mappend( (ps, \u001b[43mrow\u001b[49m\u001b[38;5;241m.\u001b[39mclassID) )\n",
      "\u001b[1;31mNameError\u001b[0m: name 'row' is not defined"
     ]
    }
   ],
   "source": [
    "\n",
    "# A few random samples\n",
    "samples_to_predict = []\n",
    "\n",
    "y1, sr1 = librosa.load(\"audio/fold1/yisell_sound_2007_12_18_15_29_067921.wav\", duration=2.97)  \n",
    "ps = librosa.feature.melspectrogram(y=y1, sr=sr1)\n",
    "\n",
    "if ps.shape == (128, 128): \n",
    "    samples_to_predict.append( (ps, row.classID) )\n"
   ]
  },
  {
   "cell_type": "code",
   "execution_count": null,
   "id": "e6d8818d",
   "metadata": {},
   "outputs": [],
   "source": [
    "\n",
    "# Convert into Numpy array\n",
    "samples_to_predict = np.array(samples_to_predict)\n",
    "print(samples_to_predict.shape)\n",
    "\n",
    "# Generate predictions for samples\n",
    "predictions = model.predict(samples_to_predict)\n",
    "print(predictions)\n",
    "\n",
    "# Generate arg maxes for predictions\n",
    "classes = np.argmax(predictions, axis = 1)\n",
    "print(classes)"
   ]
  }
 ],
 "metadata": {
  "kernelspec": {
   "display_name": "Python 3 (ipykernel)",
   "language": "python",
   "name": "python3"
  },
  "language_info": {
   "codemirror_mode": {
    "name": "ipython",
    "version": 3
   },
   "file_extension": ".py",
   "mimetype": "text/x-python",
   "name": "python",
   "nbconvert_exporter": "python",
   "pygments_lexer": "ipython3",
   "version": "3.9.7"
  }
 },
 "nbformat": 4,
 "nbformat_minor": 5
}
