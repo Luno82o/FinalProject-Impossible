{
 "cells": [
  {
   "cell_type": "code",
   "execution_count": 1,
   "id": "6650bc4a",
   "metadata": {},
   "outputs": [],
   "source": [
    "import os\n",
    "import keras\n",
    "from keras.layers import Activation, Dense, Dropout, Conv2D, Flatten, MaxPooling2D\n",
    "from keras.models import Sequential\n",
    "from scipy.io import wavfile as wav\n",
    "import librosa\n",
    "import librosa.display\n",
    "import numpy as np\n",
    "import pandas as pd\n",
    "import random\n",
    "import struct\n",
    "import matplotlib.pyplot as plt\n",
    "import IPython.display as ipd\n",
    "import progressbar\n",
    "import time"
   ]
  },
  {
   "cell_type": "code",
   "execution_count": 2,
   "id": "6c8cce11",
   "metadata": {},
   "outputs": [],
   "source": [
    "data = pd.read_csv('metadata/Screamsound.csv')\n",
    "valid_data = data[['slice_file_name', 'fold' ,'classID', 'class']][ data['end']-data['start'] > 0 ]\n",
    "valid_data['path'] = 'fold' + valid_data['fold'].astype('str') + '/' + valid_data['slice_file_name'].astype('str')\n"
   ]
  },
  {
   "cell_type": "code",
   "execution_count": 3,
   "id": "aced43ba",
   "metadata": {
    "scrolled": true
   },
   "outputs": [
    {
     "name": "stderr",
     "output_type": "stream",
     "text": [
      "C:\\Users\\USER\\AppData\\Local\\Temp\\ipykernel_27516\\2032816338.py:5: TqdmDeprecationWarning: This function will be removed in tqdm==5.0.0\n",
      "Please use `tqdm.notebook.tqdm` instead of `tqdm.tqdm_notebook`\n",
      "  for row in tqdm_notebook(valid_data.itertuples()):\n"
     ]
    },
    {
     "data": {
      "application/vnd.jupyter.widget-view+json": {
       "model_id": "f32ac17fafed49718a2aa15c5bd8f356",
       "version_major": 2,
       "version_minor": 0
      },
      "text/plain": [
       "0it [00:00, ?it/s]"
      ]
     },
     "metadata": {},
     "output_type": "display_data"
    },
    {
     "name": "stdout",
     "output_type": "stream",
     "text": [
      "fold2/100652-3-0-0.wav\n",
      "1\n",
      "fold2/100652-3-0-1.wav\n",
      "1\n",
      "fold2/100652-3-0-2.wav\n",
      "1\n",
      "fold2/100652-3-0-3.wav\n",
      "1\n",
      "fold2/101415-3-0-2.wav\n",
      "1\n",
      "fold2/101415-3-0-3.wav\n",
      "1\n",
      "fold2/101415-3-0-8.wav\n",
      "1\n",
      "fold1/yisell_sound_2007_11_9_1_31_156634.wav\n",
      "0\n",
      "fold1/yisell_sound_2007_12_18_15_25_315033.wav\n",
      "0\n",
      "fold1/yisell_sound_2007_12_18_15_25_593398.wav\n",
      "0\n",
      "fold1/yisell_sound_2007_12_18_15_26_248752.wav\n",
      "0\n",
      "fold1/yisell_sound_2007_12_18_15_26_444257.wav\n",
      "0\n",
      "fold1/yisell_sound_2007_12_18_15_27_063699.wav\n",
      "0\n",
      "fold1/yisell_sound_2007_12_18_15_27_324809.wav\n",
      "0\n",
      "fold1/yisell_sound_2007_12_18_15_27_543156.wav\n",
      "0\n",
      "fold1/yisell_sound_2007_12_18_15_29_067921.wav\n",
      "0\n",
      "fold1/yisell_sound_2007_12_18_15_29_33722.wav\n",
      "0\n",
      "fold1/yisell_sound_2007_12_18_15_30_231364.wav\n",
      "0\n",
      "fold1/yisell_sound_2014080511023849341_66366.wav\n",
      "0\n",
      "fold1/yisell_sound_2014080512323863957_66366.wav\n",
      "0\n",
      "fold1/yisell_sound_2014081313495332740_66366.wav\n",
      "0\n",
      "fold1/yisell_sound_2014081314482020626_66366.wav\n",
      "0\n",
      "fold3/pk1e5-yogtt.wav\n",
      "0\n",
      "fold3/pk1e5-yogtt.wav\n",
      "0\n",
      "fold3/pk1e5-yogtt.wav\n",
      "0\n",
      "fold3/pk1e5-yogtt.wav\n",
      "0\n",
      "fold3/pk1e5-yogtt.wav\n",
      "0\n",
      "fold3/pk1e5-yogtt.wav\n",
      "0\n",
      "fold3/pk1e5-yogtt.wav\n",
      "0\n"
     ]
    }
   ],
   "source": [
    "from tqdm import tnrange, tqdm_notebook\n",
    "\n",
    "D=[]\n",
    "        \n",
    "for row in tqdm_notebook(valid_data.itertuples()): \n",
    "    print(row.path)\n",
    "    print(row.classID)\n",
    "    y1, sr1 = librosa.load(\"audio/\" + row.path, duration=2.97)  \n",
    "    ps = librosa.feature.melspectrogram(y=y1, sr=sr1)\n",
    "    #print(ps)\n",
    "    #print(ps.shape)\n",
    "    if ps.shape != (128, 128): \n",
    "            continue\n",
    "    D.append( (ps, row.classID) )"
   ]
  },
  {
   "cell_type": "code",
   "execution_count": 4,
   "id": "588e84a3",
   "metadata": {},
   "outputs": [],
   "source": [
    "#import hickle as hkl \n",
    "#data = D\n",
    "\n",
    "## Dump data to file\n",
    "#hkl.dump(data, 'new_data_file.hkl')"
   ]
  },
  {
   "cell_type": "code",
   "execution_count": 5,
   "id": "4456d2d6",
   "metadata": {},
   "outputs": [],
   "source": [
    "## Load data from file\n",
    "#D = hkl.load('new_data_file.hkl')\n",
    "#print(type(D))"
   ]
  },
  {
   "cell_type": "code",
   "execution_count": 6,
   "id": "2d8ccf6a",
   "metadata": {
    "scrolled": true
   },
   "outputs": [],
   "source": [
    "#from keras.utils import np_utils\n",
    "#dataset = D\n",
    "#random.shuffle(dataset)\n",
    "\n",
    "#train = dataset[:15]\n",
    "#test = dataset[15:]\n",
    "#print('dataset:', len(dataset))\n",
    "#print('train:', len(train))\n",
    "#print('test:', len(test))"
   ]
  },
  {
   "cell_type": "code",
   "execution_count": 7,
   "id": "d092c4f7",
   "metadata": {},
   "outputs": [],
   "source": [
    "from keras.utils import np_utils\n",
    "#from sklearn.model_selection import cross_val_score\n",
    "from sklearn.model_selection import train_test_split\n",
    "\n",
    "X_train,X_test, y_train, y_test = train_test_split([i[0] for i in D],\n",
    "                                                   [i[1] for i in D],\n",
    "                                                   test_size=0.2,\n",
    "                                                   random_state=0)\n",
    "\n",
    "#X_train, y_train = zip(*train)\n",
    "#X_test, y_test = zip(*test)\n",
    "\n",
    "X_train = np.array([x.reshape( (128, 128, 1) ) for x in X_train])\n",
    "X_test = np.array([x.reshape( (128, 128, 1) ) for x in X_test])\n",
    "\n",
    "y_train = np.array(keras.utils.np_utils.to_categorical(y_train, 10))\n",
    "y_test = np.array(keras.utils.np_utils.to_categorical(y_test, 10))"
   ]
  },
  {
   "cell_type": "code",
   "execution_count": 8,
   "id": "a2ed9947",
   "metadata": {},
   "outputs": [],
   "source": [
    "model = Sequential()\n",
    "input_shape=(128, 128, 1)\n",
    "\n",
    "model.add(Conv2D(24, (5, 5), strides=(1, 1), input_shape=input_shape))\n",
    "model.add(MaxPooling2D((4, 2), strides=(4, 2)))\n",
    "model.add(Activation('relu'))\n",
    "\n",
    "model.add(Conv2D(48, (5, 5), padding=\"valid\"))\n",
    "model.add(MaxPooling2D((4, 2), strides=(4, 2)))\n",
    "model.add(Activation('relu'))\n",
    "\n",
    "model.add(Conv2D(48, (5, 5), padding=\"valid\"))\n",
    "model.add(Activation('relu'))\n",
    "\n",
    "model.add(Flatten())\n",
    "model.add(Dropout(rate=0.5))\n",
    "\n",
    "model.add(Dense(64))\n",
    "model.add(Activation('relu'))\n",
    "model.add(Dropout(rate=0.5))\n",
    "\n",
    "model.add(Dense(10))\n",
    "model.add(Activation('softmax'))"
   ]
  },
  {
   "cell_type": "code",
   "execution_count": 9,
   "id": "6b223268",
   "metadata": {
    "scrolled": false
   },
   "outputs": [
    {
     "name": "stdout",
     "output_type": "stream",
     "text": [
      "Epoch 1/12\n",
      "1/1 [==============================] - 1s 742ms/step - loss: 14.3897 - accuracy: 0.0667 - val_loss: 5.0499 - val_accuracy: 0.2500\n",
      "Epoch 2/12\n",
      "1/1 [==============================] - 0s 152ms/step - loss: 6.6223 - accuracy: 0.2667 - val_loss: 3.2034 - val_accuracy: 0.5000\n",
      "Epoch 3/12\n",
      "1/1 [==============================] - 0s 151ms/step - loss: 11.1051 - accuracy: 0.6000 - val_loss: 5.4924 - val_accuracy: 0.5000\n",
      "Epoch 4/12\n",
      "1/1 [==============================] - 0s 149ms/step - loss: 4.3994 - accuracy: 0.7333 - val_loss: 7.6812 - val_accuracy: 0.5000\n",
      "Epoch 5/12\n",
      "1/1 [==============================] - 0s 138ms/step - loss: 2.6805 - accuracy: 0.6667 - val_loss: 7.4876 - val_accuracy: 0.5000\n",
      "Epoch 6/12\n",
      "1/1 [==============================] - 0s 154ms/step - loss: 2.0390 - accuracy: 0.8667 - val_loss: 5.2998 - val_accuracy: 0.5000\n",
      "Epoch 7/12\n",
      "1/1 [==============================] - 0s 137ms/step - loss: 4.3816 - accuracy: 0.8000 - val_loss: 2.4467 - val_accuracy: 0.7500\n",
      "Epoch 8/12\n",
      "1/1 [==============================] - 0s 140ms/step - loss: 1.5244 - accuracy: 0.8667 - val_loss: 1.1400 - val_accuracy: 0.5000\n",
      "Epoch 9/12\n",
      "1/1 [==============================] - 0s 198ms/step - loss: 0.0136 - accuracy: 1.0000 - val_loss: 0.5760 - val_accuracy: 0.7500\n",
      "Epoch 10/12\n",
      "1/1 [==============================] - 0s 158ms/step - loss: 2.9631 - accuracy: 0.8000 - val_loss: 0.9613 - val_accuracy: 0.5000\n",
      "Epoch 11/12\n",
      "1/1 [==============================] - 0s 144ms/step - loss: 0.5450 - accuracy: 0.8000 - val_loss: 2.0861 - val_accuracy: 0.7500\n",
      "Epoch 12/12\n",
      "1/1 [==============================] - 0s 137ms/step - loss: 0.4998 - accuracy: 0.9333 - val_loss: 3.6055 - val_accuracy: 0.5000\n",
      "1/1 [==============================] - 0s 26ms/step - loss: 3.6055 - accuracy: 0.5000\n",
      "Test loss: 3.60546875\n",
      "Test accuracy: 0.5\n",
      "success\n"
     ]
    }
   ],
   "source": [
    "model.compile(\n",
    "    optimizer=\"Adam\",\n",
    "    loss=\"categorical_crossentropy\",\n",
    "    metrics=['accuracy'])\n",
    "\n",
    "model.fit(\n",
    "    x=X_train, \n",
    "    y=y_train,\n",
    "    epochs=12,\n",
    "    batch_size=128,\n",
    "    validation_data= (X_test, y_test))\n",
    "\n",
    "score = model.evaluate(\n",
    "    x=X_test,\n",
    "    y=y_test)\n",
    "\n",
    "print('Test loss:', score[0])\n",
    "print('Test accuracy:', score[1])\n",
    "print('success')"
   ]
  },
  {
   "cell_type": "code",
   "execution_count": 10,
   "id": "c6e8c6fd",
   "metadata": {
    "scrolled": true
   },
   "outputs": [
    {
     "name": "stdout",
     "output_type": "stream",
     "text": [
      "[[4.1684297e-01 5.8315694e-01 4.3327883e-19 8.2464660e-12 7.0840261e-18\n",
      "  3.0325622e-18 1.5971871e-20 8.7746996e-20 1.8439356e-19 1.7176005e-22]\n",
      " [2.5022116e-01 7.4977881e-01 2.0317324e-12 6.0097785e-09 3.6744528e-13\n",
      "  1.0436354e-10 2.8492637e-14 9.5979192e-13 3.9646077e-12 2.4118939e-13]\n",
      " [1.7448327e-06 9.9999821e-01 2.8195422e-28 1.9839173e-20 8.7925689e-29\n",
      "  1.1132878e-29 4.1739516e-27 9.7473487e-29 6.2093257e-29 1.7096656e-32]\n",
      " [9.9999988e-01 4.2996430e-08 1.4718765e-10 7.4796340e-08 1.6486961e-11\n",
      "  5.9200661e-10 1.6162152e-15 9.5268645e-12 1.3649127e-11 5.2558950e-13]]\n"
     ]
    }
   ],
   "source": [
    "predict = model.predict(X_test)\n",
    "print(predict)"
   ]
  },
  {
   "cell_type": "code",
   "execution_count": 11,
   "id": "7f3c76c2",
   "metadata": {},
   "outputs": [
    {
     "name": "stdout",
     "output_type": "stream",
     "text": [
      "[1 1 1 0]\n"
     ]
    }
   ],
   "source": [
    "predict = np.argmax(model.predict(X_test), axis=-1)\n",
    "print(predict)"
   ]
  },
  {
   "cell_type": "code",
   "execution_count": 12,
   "id": "79da1d7c",
   "metadata": {},
   "outputs": [
    {
     "name": "stdout",
     "output_type": "stream",
     "text": [
      "Model exported and finished\n"
     ]
    }
   ],
   "source": [
    "model.save('ScreamDemo1.h5') \n",
    "print('Model exported and finished')"
   ]
  },
  {
   "cell_type": "code",
   "execution_count": null,
   "id": "57d7a4ef",
   "metadata": {},
   "outputs": [],
   "source": []
  }
 ],
 "metadata": {
  "kernelspec": {
   "display_name": "Python 3 (ipykernel)",
   "language": "python",
   "name": "python3"
  },
  "language_info": {
   "codemirror_mode": {
    "name": "ipython",
    "version": 3
   },
   "file_extension": ".py",
   "mimetype": "text/x-python",
   "name": "python",
   "nbconvert_exporter": "python",
   "pygments_lexer": "ipython3",
   "version": "3.9.7"
  }
 },
 "nbformat": 4,
 "nbformat_minor": 5
}
