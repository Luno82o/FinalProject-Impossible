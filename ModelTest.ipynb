{
 "cells": [
  {
   "cell_type": "code",
   "execution_count": 1,
   "id": "3826e446",
   "metadata": {},
   "outputs": [],
   "source": [
    "from keras.models import load_model\n",
    "import librosa\n",
    "import librosa.display\n",
    "import numpy as np"
   ]
  },
  {
   "cell_type": "code",
   "execution_count": 2,
   "id": "54008e64",
   "metadata": {},
   "outputs": [],
   "source": [
    "# 載入模型\n",
    "model = load_model('ScreamDemo1.h5')"
   ]
  },
  {
   "cell_type": "code",
   "execution_count": 3,
   "id": "9db6c1e7",
   "metadata": {},
   "outputs": [],
   "source": [
    "def load_data(path):\n",
    "    y1, sr1 = librosa.load(path, duration=2.97)  \n",
    "    ps = librosa.feature.melspectrogram(y=y1, sr=sr1)\n",
    "    ps = np.array([ps.reshape( (128, 128, 1) )])\n",
    "    return ps"
   ]
  },
  {
   "cell_type": "code",
   "execution_count": 4,
   "id": "e6d8818d",
   "metadata": {},
   "outputs": [
    {
     "name": "stdout",
     "output_type": "stream",
     "text": [
      "[0]\n",
      "<class 'numpy.ndarray'>\n"
     ]
    }
   ],
   "source": [
    "path = \"audio/fold5/LunScream22-05-15_21-53-08.wav\"\n",
    "data = load_data(path)\n",
    "\n",
    "prediction = np.argmax(model.predict(data), axis=-1)\n",
    "print(prediction)\n",
    "print(type(prediction))"
   ]
  },
  {
   "cell_type": "code",
   "execution_count": null,
   "id": "aad6632d",
   "metadata": {},
   "outputs": [],
   "source": []
  }
 ],
 "metadata": {
  "kernelspec": {
   "display_name": "Python 3 (ipykernel)",
   "language": "python",
   "name": "python3"
  },
  "language_info": {
   "codemirror_mode": {
    "name": "ipython",
    "version": 3
   },
   "file_extension": ".py",
   "mimetype": "text/x-python",
   "name": "python",
   "nbconvert_exporter": "python",
   "pygments_lexer": "ipython3",
   "version": "3.9.7"
  }
 },
 "nbformat": 4,
 "nbformat_minor": 5
}
