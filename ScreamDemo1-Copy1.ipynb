{
 "cells": [
  {
   "cell_type": "code",
   "execution_count": 2,
   "id": "6650bc4a",
   "metadata": {},
   "outputs": [],
   "source": [
    "import os\n",
    "import keras\n",
    "from keras.layers import Activation, Dense, Dropout, Conv2D, Flatten, MaxPooling2D\n",
    "from keras.models import Sequential\n",
    "from scipy.io import wavfile as wav\n",
    "import librosa\n",
    "import librosa.display\n",
    "import numpy as np\n",
    "import pandas as pd\n",
    "import random\n",
    "import struct\n",
    "import matplotlib.pyplot as plt\n",
    "import IPython.display as ipd\n",
    "import progressbar\n",
    "import time"
   ]
  },
  {
   "cell_type": "code",
   "execution_count": 3,
   "id": "6c8cce11",
   "metadata": {},
   "outputs": [],
   "source": [
    "data = pd.read_csv('metadata/Screamsound.csv')\n",
    "valid_data = data[['slice_file_name', 'fold' ,'classID', 'class']][ data['end']-data['start'] > 0 ]\n",
    "valid_data['path'] = 'fold' + valid_data['fold'].astype('str') + '/' + valid_data['slice_file_name'].astype('str')\n"
   ]
  },
  {
   "cell_type": "code",
   "execution_count": 16,
   "id": "dc095471",
   "metadata": {},
   "outputs": [],
   "source": [
    "# 读取wav文件函数\n",
    "def path_class(filename):\n",
    "    excerpt = data[data['slice_file_name'] == filename]\n",
    "    path_name = os.path.join('audio', 'fold'+str(excerpt.fold.values[0]), filename)\n",
    "    return path_name, excerpt['class'].values[0]\n"
   ]
  },
  {
   "cell_type": "code",
   "execution_count": 32,
   "id": "59fa9613",
   "metadata": {},
   "outputs": [
    {
     "name": "stderr",
     "output_type": "stream",
     "text": [
      "||                                                                      ||   0%\r"
     ]
    },
    {
     "name": "stdout",
     "output_type": "stream",
     "text": [
      "[-2.76074005e+02  1.01702332e+02 -9.09617081e+01 -4.58845758e+00\n",
      " -1.91535026e-01 -1.27734118e+01 -1.72550297e+01  3.26614213e+00\n",
      " -9.61936474e+00  1.53714705e+01  8.93650055e+00  1.23601656e+01\n",
      "  1.45476198e+00  2.06550193e+00 -6.15444422e+00  2.80930114e+00\n",
      "  3.33138108e+00  1.68819785e+00 -1.29912674e+00  8.02487850e+00\n",
      "  6.12269640e+00  1.19570926e-01  5.47339725e+00 -1.02392741e-01\n",
      " -1.36843956e+00  4.32706308e+00  5.81786871e-01  2.44431996e+00\n",
      "  2.54816842e+00  6.51461482e-01  4.73611259e+00  1.25436807e+00\n",
      " -1.09259188e+00  6.34501219e-01  1.84880817e+00  1.79349935e+00\n",
      "  2.03636026e+00  9.41113383e-02  2.66597056e+00  8.53925765e-01]\n",
      "<class 'numpy.ndarray'>\n",
      "[[0], [0], [0], [0], [0], [0], [0], [0], [0], [0], [0], [0], [0], [0], [0], [0], [0], [0], [0], [0], [0], [0]]\n",
      "<class 'list'>\n"
     ]
    },
    {
     "ename": "TypeError",
     "evalue": "list indices must be integers or slices, not tuple",
     "output_type": "error",
     "traceback": [
      "\u001b[1;31m---------------------------------------------------------------------------\u001b[0m",
      "\u001b[1;31mTypeError\u001b[0m                                 Traceback (most recent call last)",
      "Input \u001b[1;32mIn [32]\u001b[0m, in \u001b[0;36m<cell line: 5>\u001b[1;34m()\u001b[0m\n\u001b[0;32m     19\u001b[0m \u001b[38;5;28mprint\u001b[39m(dataset)\n\u001b[0;32m     20\u001b[0m \u001b[38;5;28mprint\u001b[39m (\u001b[38;5;28mtype\u001b[39m(dataset))\n\u001b[1;32m---> 22\u001b[0m dataset[i,\u001b[38;5;241m0\u001b[39m],dataset[i,\u001b[38;5;241m1\u001b[39m] \u001b[38;5;241m=\u001b[39m feature,label\n\u001b[0;32m     24\u001b[0m \u001b[38;5;28mprint\u001b[39m(dataset)\n\u001b[0;32m     25\u001b[0m \u001b[38;5;28mprint\u001b[39m (\u001b[38;5;28mtype\u001b[39m(dataset))\n",
      "\u001b[1;31mTypeError\u001b[0m: list indices must be integers or slices, not tuple"
     ]
    }
   ],
   "source": [
    "# 读取wav声音文件，并提取器mfcc特征，以及label标签，将其保存\n",
    "bar = progressbar.ProgressBar(maxval=data.shape[0], widgets=[progressbar.Bar('$', '||', '||'), ' ', progressbar.Percentage()])\n",
    "bar.start()\n",
    "dataset = [[0 for x in range(1)] for x in range(data.shape[0])]\n",
    "for i in range(data.shape[0]):\n",
    "    \n",
    "    fullpath, class_id = path_class(data.slice_file_name[i])\n",
    "    try:\n",
    "        X, sample_rate = librosa.load(fullpath, res_type='kaiser_fast')\n",
    "        mfccs = np.mean(librosa.feature.mfcc(y=X, sr=sample_rate, n_mfcc=40).T,axis=0)\n",
    "        print(mfccs)\n",
    "        print (type(mfccs))\n",
    "    except Exception:\n",
    "        print(\"Error encountered while parsing file: \", file)\n",
    "        mfccs,class_id = None, None\n",
    "    feature = mfccs\n",
    "    label = class_id\n",
    "    \n",
    "    print(dataset)\n",
    "    print (type(dataset))\n",
    "    \n",
    "    dataset[i,0],dataset[i,1] = feature,label\n",
    "    \n",
    "    print(dataset)\n",
    "    print (type(dataset))\n",
    "    \n",
    "    bar.update(i+1)\n"
   ]
  },
  {
   "cell_type": "code",
   "execution_count": null,
   "id": "c98d2212",
   "metadata": {},
   "outputs": [],
   "source": []
  },
  {
   "cell_type": "code",
   "execution_count": null,
   "id": "45f117c9",
   "metadata": {},
   "outputs": [],
   "source": []
  },
  {
   "cell_type": "code",
   "execution_count": null,
   "id": "c3b5fdf7",
   "metadata": {},
   "outputs": [],
   "source": []
  },
  {
   "cell_type": "code",
   "execution_count": null,
   "id": "f6d93a39",
   "metadata": {},
   "outputs": [],
   "source": []
  },
  {
   "cell_type": "code",
   "execution_count": null,
   "id": "da047d2a",
   "metadata": {},
   "outputs": [],
   "source": []
  },
  {
   "cell_type": "code",
   "execution_count": null,
   "id": "61e72ec2",
   "metadata": {},
   "outputs": [],
   "source": []
  },
  {
   "cell_type": "code",
   "execution_count": 3,
   "id": "aced43ba",
   "metadata": {
    "scrolled": true
   },
   "outputs": [
    {
     "name": "stderr",
     "output_type": "stream",
     "text": [
      "C:\\Users\\USER\\AppData\\Local\\Temp\\ipykernel_8412\\2348564150.py:5: TqdmDeprecationWarning: This function will be removed in tqdm==5.0.0\n",
      "Please use `tqdm.notebook.tqdm` instead of `tqdm.tqdm_notebook`\n",
      "  for row in tqdm_notebook(valid_data.itertuples()):\n"
     ]
    },
    {
     "data": {
      "application/vnd.jupyter.widget-view+json": {
       "model_id": "3c29314b68954f33b0cbf25881bcb8f5",
       "version_major": 2,
       "version_minor": 0
      },
      "text/plain": [
       "0it [00:00, ?it/s]"
      ]
     },
     "metadata": {},
     "output_type": "display_data"
    },
    {
     "name": "stdout",
     "output_type": "stream",
     "text": [
      "fold2/100652-3-0-0.wav\n",
      "1\n",
      "(128, 128)\n",
      "fold2/100652-3-0-1.wav\n",
      "1\n",
      "(128, 128)\n",
      "fold2/100652-3-0-2.wav\n",
      "1\n",
      "(128, 128)\n",
      "fold2/100652-3-0-3.wav\n",
      "1\n",
      "(128, 128)\n",
      "fold2/101415-3-0-2.wav\n",
      "1\n",
      "(128, 128)\n",
      "fold2/101415-3-0-3.wav\n",
      "1\n",
      "(128, 128)\n",
      "fold2/101415-3-0-8.wav\n",
      "1\n",
      "(128, 128)\n",
      "fold1/yisell_sound_2007_11_9_1_31_156634.wav\n",
      "0\n",
      "(128, 80)\n",
      "fold1/yisell_sound_2007_12_18_15_25_315033.wav\n",
      "0\n",
      "(128, 13)\n",
      "fold1/yisell_sound_2007_12_18_15_25_593398.wav\n",
      "0\n",
      "(128, 34)\n",
      "fold1/yisell_sound_2007_12_18_15_26_248752.wav\n",
      "0\n",
      "(128, 69)\n",
      "fold1/yisell_sound_2007_12_18_15_26_444257.wav\n",
      "0\n",
      "(128, 84)\n",
      "fold1/yisell_sound_2007_12_18_15_27_063699.wav\n",
      "0\n",
      "(128, 62)\n",
      "fold1/yisell_sound_2007_12_18_15_27_324809.wav\n",
      "0\n",
      "(128, 94)\n",
      "fold1/yisell_sound_2007_12_18_15_27_543156.wav\n",
      "0\n",
      "(128, 128)\n",
      "fold1/yisell_sound_2007_12_18_15_29_067921.wav\n",
      "0\n",
      "(128, 128)\n",
      "fold1/yisell_sound_2007_12_18_15_29_33722.wav\n",
      "0\n",
      "(128, 128)\n",
      "fold1/yisell_sound_2007_12_18_15_30_231364.wav\n",
      "0\n",
      "(128, 128)\n",
      "fold1/yisell_sound_2014080511023849341_66366.wav\n",
      "0\n",
      "(128, 88)\n",
      "fold1/yisell_sound_2014080512323863957_66366.wav\n",
      "0\n",
      "(128, 128)\n",
      "fold1/yisell_sound_2014081313495332740_66366.wav\n",
      "0\n",
      "(128, 105)\n",
      "fold1/yisell_sound_2014081314482020626_66366.wav\n",
      "0\n",
      "(128, 66)\n"
     ]
    }
   ],
   "source": [
    "from tqdm import tnrange, tqdm_notebook\n",
    "\n",
    "D=[]\n",
    "        \n",
    "for row in tqdm_notebook(valid_data.itertuples()): \n",
    "    print(row.path)\n",
    "    print(row.classID)\n",
    "    y1, sr1 = librosa.load(\"audio/\" + row.path, duration=2.97)  \n",
    "    ps = librosa.feature.melspectrogram(y=y1, sr=sr1)\n",
    "    print(ps.shape)\n",
    "    if ps.shape != (128, 128): \n",
    "            continue\n",
    "    D.append( (ps, row.classID) )"
   ]
  },
  {
   "cell_type": "code",
   "execution_count": null,
   "id": "4b3375bd",
   "metadata": {},
   "outputs": [],
   "source": []
  },
  {
   "cell_type": "code",
   "execution_count": 17,
   "id": "588e84a3",
   "metadata": {},
   "outputs": [],
   "source": [
    "import numpy as np\n",
    "import hickle as hkl \n",
    "data = D\n",
    "\n",
    "# Dump data to file\n",
    "hkl.dump(data, 'new_data_file.hkl')\n",
    "\n",
    "# 将声音文件的mfcc特征以及label保存，便于之后的导入\n",
    "np.save(\"dataset\",dataset,allow_pickle=True)\n"
   ]
  },
  {
   "cell_type": "code",
   "execution_count": 5,
   "id": "4456d2d6",
   "metadata": {},
   "outputs": [],
   "source": [
    "# Load data from file\n",
    "D = hkl.load('new_data_file.hkl')"
   ]
  },
  {
   "cell_type": "code",
   "execution_count": 6,
   "id": "d092c4f7",
   "metadata": {},
   "outputs": [
    {
     "name": "stdout",
     "output_type": "stream",
     "text": [
      "dataset: 12\n",
      "train: 8\n",
      "test: 4\n"
     ]
    }
   ],
   "source": [
    "from keras.utils import np_utils\n",
    "dataset = D\n",
    "random.shuffle(dataset)\n",
    "\n",
    "train = dataset[:8]\n",
    "test = dataset[8:]\n",
    "print('dataset:', len(dataset))\n",
    "print('train:', len(train))\n",
    "print('test:', len(test))\n",
    "\n",
    "X_train, y_train = zip(*train)\n",
    "X_test, y_test = zip(*test)\n",
    "\n",
    "X_train = np.array([x.reshape( (128, 128, 1) ) for x in X_train])\n",
    "X_test = np.array([x.reshape( (128, 128, 1) ) for x in X_test])\n",
    "\n",
    "\n",
    "y_train = np.array(keras.utils.np_utils.to_categorical(y_train, 10))\n",
    "y_test = np.array(keras.utils.np_utils.to_categorical(y_test, 10))"
   ]
  },
  {
   "cell_type": "code",
   "execution_count": 15,
   "id": "e5d87827",
   "metadata": {},
   "outputs": [
    {
     "ename": "NameError",
     "evalue": "name 'y' is not defined",
     "output_type": "error",
     "traceback": [
      "\u001b[1;31m---------------------------------------------------------------------------\u001b[0m",
      "\u001b[1;31mNameError\u001b[0m                                 Traceback (most recent call last)",
      "Input \u001b[1;32mIn [15]\u001b[0m, in \u001b[0;36m<cell line: 11>\u001b[1;34m()\u001b[0m\n\u001b[0;32m      7\u001b[0m \u001b[38;5;28;01mfrom\u001b[39;00m \u001b[38;5;21;01mkeras\u001b[39;00m\u001b[38;5;21;01m.\u001b[39;00m\u001b[38;5;21;01mutils\u001b[39;00m \u001b[38;5;28;01mimport\u001b[39;00m np_utils\n\u001b[0;32m      8\u001b[0m \u001b[38;5;28;01mfrom\u001b[39;00m \u001b[38;5;21;01msklearn\u001b[39;00m \u001b[38;5;28;01mimport\u001b[39;00m metrics \n\u001b[1;32m---> 11\u001b[0m num_labels \u001b[38;5;241m=\u001b[39m \u001b[43my\u001b[49m\u001b[38;5;241m.\u001b[39mshape[\u001b[38;5;241m1\u001b[39m]\n\u001b[0;32m     12\u001b[0m filter_size \u001b[38;5;241m=\u001b[39m \u001b[38;5;241m3\u001b[39m\n\u001b[0;32m     14\u001b[0m \u001b[38;5;66;03m# build model\u001b[39;00m\n",
      "\u001b[1;31mNameError\u001b[0m: name 'y' is not defined"
     ]
    }
   ],
   "source": [
    "import numpy as np\n",
    "import pandas as pd\n",
    "\n",
    "# 导入数据\n",
    "data = pd.DataFrame(np.load(\"dataset.npy\",allow_pickle= True))\n",
    "data.columns = ['feature', 'label']\n",
    "\n",
    "# 对数据进行处理\n",
    "from sklearn.preprocessing import LabelEncoder\n",
    "\n",
    "X = np.array(data.feature.tolist())\n",
    "y = np.array(data.label.tolist())\n",
    "\n",
    "# 数据分割\n",
    "from sklearn.model_selection import train_test_split\n",
    "X,val_x,y,val_y = train_test_split(X,y)\n",
    "\n",
    "# 对标签进行one-hot处理\n",
    "lb = LabelEncoder()\n",
    "from keras.utils import np_utils\n",
    "y = np_utils.to_categorical(lb.fit_transform(y))\n",
    "val_y = np_utils.to_categorical(lb.fit_transform(val_y))\n"
   ]
  },
  {
   "cell_type": "code",
   "execution_count": 11,
   "id": "a2ed9947",
   "metadata": {},
   "outputs": [
    {
     "data": {
      "text/plain": [
       "'model = Sequential()\\ninput_shape=(128, 128, 1)\\n\\nmodel.add(Conv2D(24, (5, 5), strides=(1, 1), input_shape=input_shape))\\nmodel.add(MaxPooling2D((4, 2), strides=(4, 2)))\\nmodel.add(Activation(\\'relu\\'))\\n\\nmodel.add(Conv2D(48, (5, 5), padding=\"valid\"))\\nmodel.add(MaxPooling2D((4, 2), strides=(4, 2)))\\nmodel.add(Activation(\\'relu\\'))\\n\\nmodel.add(Conv2D(48, (5, 5), padding=\"valid\"))\\nmodel.add(Activation(\\'relu\\'))\\n\\nmodel.add(Flatten())\\nmodel.add(Dropout(rate=0.5))\\n\\nmodel.add(Dense(64))\\nmodel.add(Activation(\\'relu\\'))\\nmodel.add(Dropout(rate=0.5))\\n\\nmodel.add(Dense(10))\\nmodel.add(Activation(\\'softmax\\'))\\n \\nmodel.summary()'"
      ]
     },
     "execution_count": 11,
     "metadata": {},
     "output_type": "execute_result"
    }
   ],
   "source": [
    "\"\"\"odel = Sequential()\n",
    "input_shape=(128, 128, 1)\n",
    "\n",
    "model.add(Conv2D(24, (5, 5), strides=(1, 1), input_shape=input_shape))\n",
    "model.add(MaxPooling2D((4, 2), strides=(4, 2)))\n",
    "model.add(Activation('relu'))\n",
    "\n",
    "model.add(Conv2D(48, (5, 5), padding=\"valid\"))\n",
    "model.add(MaxPooling2D((4, 2), strides=(4, 2)))\n",
    "model.add(Activation('relu'))\n",
    "\n",
    "model.add(Conv2D(48, (5, 5), padding=\"valid\"))\n",
    "model.add(Activation('relu'))\n",
    "\n",
    "model.add(Flatten())\n",
    "model.add(Dropout(rate=0.5))\n",
    "\n",
    "model.add(Dense(64))\n",
    "model.add(Activation('relu'))\n",
    "model.add(Dropout(rate=0.5))\n",
    "\n",
    "model.add(Dense(10))\n",
    "model.add(Activation('softmax'))\n",
    " \n",
    "model.summary()\"\"\""
   ]
  },
  {
   "cell_type": "code",
   "execution_count": 8,
   "id": "6b223268",
   "metadata": {
    "scrolled": true
   },
   "outputs": [
    {
     "name": "stdout",
     "output_type": "stream",
     "text": [
      "Epoch 1/12\n",
      "1/1 [==============================] - 1s 856ms/step - loss: 42.6125 - accuracy: 0.0000e+00 - val_loss: 4.0255 - val_accuracy: 0.5000\n",
      "Epoch 2/12\n",
      "1/1 [==============================] - 0s 119ms/step - loss: 13.8385 - accuracy: 0.0000e+00 - val_loss: 3.2431 - val_accuracy: 0.2500\n",
      "Epoch 3/12\n",
      "1/1 [==============================] - 0s 120ms/step - loss: 18.1635 - accuracy: 0.2500 - val_loss: 3.7665 - val_accuracy: 0.2500\n",
      "Epoch 4/12\n",
      "1/1 [==============================] - 0s 145ms/step - loss: 2.5496 - accuracy: 0.5000 - val_loss: 5.9241 - val_accuracy: 0.2500\n",
      "Epoch 5/12\n",
      "1/1 [==============================] - 0s 169ms/step - loss: 5.1248 - accuracy: 0.6250 - val_loss: 6.9809 - val_accuracy: 0.2500\n",
      "Epoch 6/12\n",
      "1/1 [==============================] - 0s 114ms/step - loss: 5.0861 - accuracy: 0.6250 - val_loss: 7.7343 - val_accuracy: 0.2500\n",
      "Epoch 7/12\n",
      "1/1 [==============================] - 0s 110ms/step - loss: 3.1174 - accuracy: 0.6250 - val_loss: 8.2700 - val_accuracy: 0.2500\n",
      "Epoch 8/12\n",
      "1/1 [==============================] - 0s 113ms/step - loss: 3.5729 - accuracy: 0.7500 - val_loss: 9.1561 - val_accuracy: 0.2500\n",
      "Epoch 9/12\n",
      "1/1 [==============================] - 0s 108ms/step - loss: 8.4068e-05 - accuracy: 1.0000 - val_loss: 10.1637 - val_accuracy: 0.2500\n",
      "Epoch 10/12\n",
      "1/1 [==============================] - 0s 103ms/step - loss: 3.9559 - accuracy: 0.7500 - val_loss: 10.7710 - val_accuracy: 0.2500\n",
      "Epoch 11/12\n",
      "1/1 [==============================] - 0s 112ms/step - loss: 8.7459 - accuracy: 0.7500 - val_loss: 10.1979 - val_accuracy: 0.2500\n",
      "Epoch 12/12\n",
      "1/1 [==============================] - 0s 111ms/step - loss: 7.5406 - accuracy: 0.7500 - val_loss: 9.6667 - val_accuracy: 0.2500\n",
      "1/1 [==============================] - 0s 29ms/step - loss: 9.6667 - accuracy: 0.2500\n",
      "Test loss: 9.666698455810547\n",
      "Test accuracy: 0.25\n"
     ]
    }
   ],
   "source": [
    "model.compile(\n",
    "    optimizer=\"Adam\",\n",
    "    loss=\"categorical_crossentropy\",\n",
    "    metrics=['accuracy'])\n",
    "\n",
    "model.fit(\n",
    "    x=X_train, \n",
    "    y=y_train,\n",
    "    epochs=12,\n",
    "    batch_size=128,\n",
    "    validation_data= (X_test, y_test))\n",
    "\n",
    "score = model.evaluate(\n",
    "    x=X_test,\n",
    "    y=y_test)\n",
    "\n",
    "print('Test loss:', score[0])\n",
    "print('Test accuracy:', score[1])"
   ]
  },
  {
   "cell_type": "code",
   "execution_count": 9,
   "id": "79da1d7c",
   "metadata": {},
   "outputs": [
    {
     "name": "stdout",
     "output_type": "stream",
     "text": [
      "Model exported and finished\n"
     ]
    }
   ],
   "source": [
    "from keras.models import load_model\n",
    "timestr = time.strftime('%Y%m%d-%H%M%S')\n",
    "modelName = 'sound-classification-{}.h5'.format(timestr)\n",
    "model.save('models/{}'.format(modelName))\n",
    "\n",
    "print('Model exported and finished')\n",
    "model.save('my_model.h5') "
   ]
  },
  {
   "cell_type": "code",
   "execution_count": null,
   "id": "a3c02733",
   "metadata": {},
   "outputs": [],
   "source": []
  }
 ],
 "metadata": {
  "kernelspec": {
   "display_name": "Python 3 (ipykernel)",
   "language": "python",
   "name": "python3"
  },
  "language_info": {
   "codemirror_mode": {
    "name": "ipython",
    "version": 3
   },
   "file_extension": ".py",
   "mimetype": "text/x-python",
   "name": "python",
   "nbconvert_exporter": "python",
   "pygments_lexer": "ipython3",
   "version": "3.9.7"
  }
 },
 "nbformat": 4,
 "nbformat_minor": 5
}
